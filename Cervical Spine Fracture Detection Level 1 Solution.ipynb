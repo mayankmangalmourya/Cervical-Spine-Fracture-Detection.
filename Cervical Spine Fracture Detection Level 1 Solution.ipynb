{
 "cells": [
  {
   "cell_type": "code",
   "execution_count": 1,
   "id": "451c351c",
   "metadata": {
    "execution": {
     "iopub.execute_input": "2023-07-06T20:36:17.968603Z",
     "iopub.status.busy": "2023-07-06T20:36:17.967056Z",
     "iopub.status.idle": "2023-07-06T20:36:23.939744Z",
     "shell.execute_reply": "2023-07-06T20:36:23.938543Z"
    },
    "papermill": {
     "duration": 5.986466,
     "end_time": "2023-07-06T20:36:23.942886",
     "exception": false,
     "start_time": "2023-07-06T20:36:17.956420",
     "status": "completed"
    },
    "tags": []
   },
   "outputs": [],
   "source": [
    "%matplotlib inline\n",
    "import numpy as np # linear algebra\n",
    "import pandas as pd # data processing, CSV file I/O (e.g. pd.read_csv)\n",
    "import glob\n",
    "import os\n",
    "import matplotlib.pyplot as plt\n",
    "import pydicom # for reading dicom files at train, test datasets\n",
    "import tensorflow as tf"
   ]
  },
  {
   "cell_type": "code",
   "execution_count": 2,
   "id": "a3bd76e5",
   "metadata": {
    "execution": {
     "iopub.execute_input": "2023-07-06T20:36:23.960408Z",
     "iopub.status.busy": "2023-07-06T20:36:23.959675Z",
     "iopub.status.idle": "2023-07-06T20:36:23.969565Z",
     "shell.execute_reply": "2023-07-06T20:36:23.968208Z"
    },
    "papermill": {
     "duration": 0.021765,
     "end_time": "2023-07-06T20:36:23.972310",
     "exception": false,
     "start_time": "2023-07-06T20:36:23.950545",
     "status": "completed"
    },
    "tags": []
   },
   "outputs": [],
   "source": [
    "# classes\n",
    "class Patient:\n",
    "    \"\"\"class for patient information\"\"\"\n",
    "    def __init__(self, name, imnumber):\n",
    "        self.name=name\n",
    "        self.imnumber=imnumber\n",
    "    \n",
    "    def makeArray(self, baseDir = 'train'):\n",
    "        \"\"\"extract the DICOM image and load it into a numpy array\n",
    "        \"\"\"\n",
    "        #create path to file\n",
    "        if baseDir == 'test':\n",
    "            base = tests+'/'+self.name\n",
    "        else:\n",
    "            base = trains+'/'+self.name\n",
    "        pass_dicom = self.imnumber+\".dcm\"\n",
    "\n",
    "        #extract file\n",
    "        filename = pydicom.data.data_manager.get_files(base, pass_dicom)[0]\n",
    "        ds = pydicom.dcmread(filename)\n",
    "        #extract the array representing the DICOM image\n",
    "        return ds.pixel_array\n",
    "        "
   ]
  },
  {
   "cell_type": "code",
   "execution_count": 3,
   "id": "e39bda33",
   "metadata": {
    "execution": {
     "iopub.execute_input": "2023-07-06T20:36:23.989891Z",
     "iopub.status.busy": "2023-07-06T20:36:23.989429Z",
     "iopub.status.idle": "2023-07-06T20:36:24.037350Z",
     "shell.execute_reply": "2023-07-06T20:36:24.036089Z"
    },
    "papermill": {
     "duration": 0.060311,
     "end_time": "2023-07-06T20:36:24.040383",
     "exception": false,
     "start_time": "2023-07-06T20:36:23.980072",
     "status": "completed"
    },
    "tags": []
   },
   "outputs": [],
   "source": [
    "# functions\n",
    "def loadPatient(name, imgNum, baseDir = \"train\"):\n",
    "    \"\"\"create a patient object given a UID and image number\n",
    "    \"\"\"\n",
    "    # choose path based on whether we want to look in the training or testing data\n",
    "    if baseDir == \"test\":\n",
    "        path = tests\n",
    "    else:\n",
    "        path = trains\n",
    "    # extract the folder specific to the name to get image numbers\n",
    "    path = path + '/{}'.format(name)\n",
    "    img_numbers = [s.split('/')[-1][:-4] for s in \n",
    "                   glob.glob(path+'/*.dcm')]\n",
    "    # create a patient object if the imgNum is in the set of image numbers\n",
    "    if imgNum in img_numbers:\n",
    "        return Patient(name, imgNum)\n",
    "    \n",
    "def idVertebrae(name):\n",
    "    '''takes an index and returns the affected vertebrae\n",
    "    '''\n",
    "    # locate record under the name\n",
    "    inst = training[training['StudyInstanceUID']==name]\n",
    "    # get list of vertebrae\n",
    "    vertebrae = list(training.columns[2:])\n",
    "    # map vertebrae names to 0-1 values\n",
    "    df = inst[vertebrae]\n",
    "    df = pd.DataFrame(np.where(df == 1, df.columns, np.nan), columns=df.columns)\n",
    "    # create list naming affected vertebrae\n",
    "    return df.loc[0, :].dropna().values.flatten().tolist()\n",
    "\n",
    "def synthesizeArray(name, number, baseDir = 'train'):\n",
    "    '''synthesize a numpy array for a given UID\n",
    "    '''\n",
    "    # create patient object\n",
    "    image = loadPatient(name, str(number))\n",
    "    # build an array of the images\n",
    "    try:\n",
    "        return image.makeArray(baseDir)\n",
    "        \n",
    "    except:\n",
    "        return np.nan\n",
    "    \n",
    "def pictureBreak(name, num, x,y,w,h, baseDir = 'train'):\n",
    "    \"\"\"produce an image of the fracture in the bone\n",
    "    \"\"\"\n",
    "    try:\n",
    "        Img = synthesizeArray(name,num, baseDir)\n",
    "        a,b,c,d = int(x), int(w+x), int(y), int(y+h)\n",
    "        return Img[a:b,c:d]\n",
    "    except:\n",
    "        return np.nan\n",
    "    \n",
    "def retrieve_slices(name, k, baseDir = 'train'):\n",
    "    '''return the first k slice numbers for a given patient UID\n",
    "    '''\n",
    "    if baseDir == 'test':\n",
    "        h = glob.glob(tests+'/'+name+'/*.dcm')\n",
    "    else:\n",
    "        h = glob.glob(trains+'/'+name+'/*.dcm')\n",
    "    b = [int(s.split('/')[-1][:-4]) for s in h]\n",
    "    return b[:k]\n",
    "\n",
    "def make_label(name):\n",
    "    '''label UID as healthy or fractured\n",
    "    '''\n",
    "    myDict = dict(zip(training['StudyInstanceUID'], training['patient_overall']))\n",
    "    if myDict[name] == 0:\n",
    "        return myDict[name], 'healthy :-)'\n",
    "    else:\n",
    "        return myDict[name], '-'.join(idVertebrae(name))\n",
    "    \n",
    "def normalize_img(data, label):\n",
    "    \"\"\"normalize the images in the training data\n",
    "    \"\"\"\n",
    "    tensor = tf.cast(data, dtype=tf.float32)\n",
    "    tensor = tf.math.divide_no_nan(\n",
    "            tf.subtract(tensor, tf.reduce_min(tensor)), \n",
    "            tf.reduce_max(tensor)\n",
    "        )\n",
    "    return tensor, label \n",
    "\n",
    "def prediction(img_array):\n",
    "    \"\"\"predict presence of break using the model\n",
    "    \"\"\"\n",
    "    #predict probability of vertebrae break using model\n",
    "    predictions = model.predict(img_array)\n",
    "    #convert prediction to probability\n",
    "    score = tf.nn.softmax(predictions[0])\n",
    "    #provide score and result\n",
    "    return np.max(score), np.argmax(score)\n",
    "\n",
    "def make_coords():\n",
    "    \"\"\"generate coordinates\n",
    "    \"\"\"\n",
    "    a = np.random.randint(min(bounds['x']),max(bounds['x']))\n",
    "    b = np.random.randint(min(bounds['y']),max(bounds['y']))\n",
    "    c = np.random.randint(min(bounds['width']),max(bounds['width']))\n",
    "    d = np.random.randint(min(bounds['height']),max(bounds['height']))\n",
    "    return a,b,c,d\n",
    "\n",
    "def testingImages(name, baseDir = 'train', k=100):\n",
    "    '''retrieve and format testing data images for prediction\n",
    "    '''\n",
    "    pictures = []\n",
    "    # pick out first 100 slices\n",
    "    d = retrieve_slices(name, k, baseDir)\n",
    "    for sl in d:\n",
    "        # generate coordinates of the break location\n",
    "        x,y,width,height = make_coords()\n",
    "        # image of break\n",
    "        j = pictureBreak(name, sl, x,y,width,height, baseDir)\n",
    "        # return resized if possible\n",
    "        try:\n",
    "            pictures.append(st.resize(j, (64,64,1)))\n",
    "        except:\n",
    "            continue\n",
    "    return pictures\n",
    "\n",
    "def get_best(testimgs):\n",
    "    '''get the best prediction from the model\n",
    "    '''\n",
    "    preDict = {}\n",
    "    for img in testimgs:\n",
    "        try:\n",
    "            img = np.array([img])\n",
    "            a,b = prediction(img)\n",
    "            preDict[a] = b\n",
    "        except:\n",
    "            continue\n",
    "\n",
    "    #m = max(preDict.keys())\n",
    "    return preDict\n",
    "\n",
    "def get_label(my_dict):\n",
    "    '''use the model to make predictions\n",
    "    '''\n",
    "    # run the model on images in named directory\n",
    "    #my_dict = get_best(testingImages(name, baseDir, k))\n",
    "    #invert the dictionary to provide label names and average probability\n",
    "    my_inverted_dict = {}\n",
    "    for k,v in my_dict.items():\n",
    "        my_inverted_dict.setdefault(translator[v], list()).append(k)\n",
    "    # smooth results\n",
    "    stats = {k:np.mean(my_inverted_dict[k]) for k in my_inverted_dict.keys()}\n",
    "    # only state that the bone is healthy if there are no predictions indicating fractures\n",
    "    if list(stats.keys()) == ['0, healthy :-)']:\n",
    "        f = list(stats.keys())[0]\n",
    "        return f, stats[f]\n",
    "    else:\n",
    "        del stats['0, healthy :-)']\n",
    "        f = max(stats, key=stats.get)\n",
    "        return f, stats[f]\n",
    "    \n",
    "def predict_new(name):\n",
    "    '''use model to predict on new data outside the training set'''\n",
    "    C = retrieve_slices(name,10, baseDir=\"test\")\n",
    "    bob = []\n",
    "    for v in C:\n",
    "        \n",
    "        try:\n",
    "            a,b,c,d = make_coords()\n",
    "            x = Patient(name,str(v)).makeArray(baseDir=\"test\")\n",
    "            y= x[a:a+c, b:b+d]\n",
    "            bob.append(st.resize(y, (64,64,1)))\n",
    "        except:\n",
    "            continue\n",
    "    try:\n",
    "        return get_label(get_best(np.array(bob)))\n",
    "    except:\n",
    "        return 0\n",
    "\n",
    "def predict_affected(name, affected_vertebrae):\n",
    "    '''predict if a case is broken and if the stated vertebrae is affected\n",
    "    '''\n",
    "    vert = ['C1','C2','C3','C4','C5','C6','C7']\n",
    "    try:\n",
    "        # extract probability and label\n",
    "        b, p = predict_new(name)\n",
    "        b1 = int(b.split(', ')[0])\n",
    "        b2 = b.split(', ')[1].split('-')\n",
    "        if affected_vertebrae in vert:\n",
    "            # check if the vertebrae is affected by the break\n",
    "            if affected_vertebrae in b2:\n",
    "                return p\n",
    "            else:\n",
    "                return 0\n",
    "        else:\n",
    "            # return the overall probability\n",
    "            if b2 == ['healthy :-)']:\n",
    "                return 0\n",
    "            else:\n",
    "                return p\n",
    "    except:\n",
    "        return 0.0"
   ]
  },
  {
   "cell_type": "code",
   "execution_count": 4,
   "id": "5c3ca10f",
   "metadata": {
    "execution": {
     "iopub.execute_input": "2023-07-06T20:36:24.057280Z",
     "iopub.status.busy": "2023-07-06T20:36:24.056818Z",
     "iopub.status.idle": "2023-07-06T20:36:24.110530Z",
     "shell.execute_reply": "2023-07-06T20:36:24.108942Z"
    },
    "papermill": {
     "duration": 0.065689,
     "end_time": "2023-07-06T20:36:24.113637",
     "exception": false,
     "start_time": "2023-07-06T20:36:24.047948",
     "status": "completed"
    },
    "tags": []
   },
   "outputs": [],
   "source": [
    "#load csv files\n",
    "bounds = pd.read_csv('../input/rsna-2022-cervical-spine-fracture-detection/train_bounding_boxes.csv')\n",
    "training = pd.read_csv('../input/rsna-2022-cervical-spine-fracture-detection/train.csv')\n",
    "testing = pd.read_csv('../input/rsna-2022-cervical-spine-fracture-detection/test.csv')\n",
    "\n",
    "#paths to train/test images\n",
    "trains = '../input/rsna-2022-cervical-spine-fracture-detection/train_images'\n",
    "tests = '../input/rsna-2022-cervical-spine-fracture-detection/test_images'"
   ]
  },
  {
   "cell_type": "code",
   "execution_count": 5,
   "id": "f84d0cc4",
   "metadata": {
    "execution": {
     "iopub.execute_input": "2023-07-06T20:36:24.130879Z",
     "iopub.status.busy": "2023-07-06T20:36:24.130392Z",
     "iopub.status.idle": "2023-07-06T20:36:24.158238Z",
     "shell.execute_reply": "2023-07-06T20:36:24.157261Z"
    },
    "papermill": {
     "duration": 0.039559,
     "end_time": "2023-07-06T20:36:24.160987",
     "exception": false,
     "start_time": "2023-07-06T20:36:24.121428",
     "status": "completed"
    },
    "tags": []
   },
   "outputs": [],
   "source": [
    "# get patients whose data appears in the list of those with bounding boxes\n",
    "bbox_p = list(set(bounds['StudyInstanceUID']))\n",
    "# get patients whose data appears in segmentation\n",
    "seglist = glob.glob('../input/rsna-2022-cervical-spine-fracture-detection/segmentations/*')\n",
    "seg_p = [s.split('/')[-1][:-4] for s in seglist]"
   ]
  },
  {
   "cell_type": "code",
   "execution_count": 6,
   "id": "5ab5fa3c",
   "metadata": {
    "execution": {
     "iopub.execute_input": "2023-07-06T20:36:24.178037Z",
     "iopub.status.busy": "2023-07-06T20:36:24.177543Z",
     "iopub.status.idle": "2023-07-06T20:36:26.646787Z",
     "shell.execute_reply": "2023-07-06T20:36:26.645799Z"
    },
    "papermill": {
     "duration": 2.481069,
     "end_time": "2023-07-06T20:36:26.649510",
     "exception": false,
     "start_time": "2023-07-06T20:36:24.168441",
     "status": "completed"
    },
    "tags": []
   },
   "outputs": [],
   "source": [
    "# get names and slices of healthy vertebrae\n",
    "segs = training[training['StudyInstanceUID'].isin(seg_p)]\n",
    "hv = segs[segs['patient_overall']==0]['StudyInstanceUID'].to_list()\n",
    "# map the names to the slices\n",
    "name2slice = {hv[i]:sorted(retrieve_slices(hv[i], 150)) for i in range(len(hv))}\n",
    "# create the dataframe for healthy patients\n",
    "names = []\n",
    "slicenums = []\n",
    "for k in name2slice:\n",
    "    for v in name2slice[k]:\n",
    "        names.append(k)\n",
    "        slicenums.append(v)\n",
    "healthy = pd.DataFrame({'StudyInstanceUID':names, \n",
    "                        'x': bounds['x'].to_list()[:len(names)],\n",
    "                        'y': bounds['y'].to_list()[:len(names)], \n",
    "                        'width': bounds['width'].to_list()[:len(names)], \n",
    "                        'height': bounds['height'].to_list()[:len(names)], \n",
    "                        'slice_number':slicenums})"
   ]
  },
  {
   "cell_type": "code",
   "execution_count": 7,
   "id": "6444f252",
   "metadata": {
    "execution": {
     "iopub.execute_input": "2023-07-06T20:36:26.666602Z",
     "iopub.status.busy": "2023-07-06T20:36:26.665812Z",
     "iopub.status.idle": "2023-07-06T20:36:26.683144Z",
     "shell.execute_reply": "2023-07-06T20:36:26.681887Z"
    },
    "papermill": {
     "duration": 0.029387,
     "end_time": "2023-07-06T20:36:26.686477",
     "exception": false,
     "start_time": "2023-07-06T20:36:26.657090",
     "status": "completed"
    },
    "tags": []
   },
   "outputs": [],
   "source": [
    "#draw samples of the control and treatment groups\n",
    "A, B = healthy.sample(frac=0.45), bounds.sample(frac=0.45)\n",
    "#combine the resulting dataframes\n",
    "df = pd.concat([A, B], axis=0).dropna()"
   ]
  },
  {
   "cell_type": "code",
   "execution_count": 8,
   "id": "26c0c562",
   "metadata": {
    "execution": {
     "iopub.execute_input": "2023-07-06T20:36:26.703220Z",
     "iopub.status.busy": "2023-07-06T20:36:26.702737Z",
     "iopub.status.idle": "2023-07-06T20:39:19.018711Z",
     "shell.execute_reply": "2023-07-06T20:39:19.017261Z"
    },
    "papermill": {
     "duration": 172.328067,
     "end_time": "2023-07-06T20:39:19.022043",
     "exception": false,
     "start_time": "2023-07-06T20:36:26.693976",
     "status": "completed"
    },
    "tags": []
   },
   "outputs": [],
   "source": [
    "#create arrays of images and labels\n",
    "a = df.apply(lambda x: pictureBreak(x['StudyInstanceUID'],x[\"slice_number\"], x[\"x\"], x[\"y\"], x[\"width\"], x[\"height\"]),axis=1)\n",
    "b = df['StudyInstanceUID'].apply(make_label)\n",
    "# assemble into data frame with NaN elements removed\n",
    "myDict = {'img_array': a.tolist(), 'label_array': b.tolist()}\n",
    "df = pd.DataFrame(myDict).dropna()"
   ]
  },
  {
   "cell_type": "code",
   "execution_count": 9,
   "id": "4f9bcf6f",
   "metadata": {
    "execution": {
     "iopub.execute_input": "2023-07-06T20:39:19.041847Z",
     "iopub.status.busy": "2023-07-06T20:39:19.041383Z",
     "iopub.status.idle": "2023-07-06T20:39:23.408125Z",
     "shell.execute_reply": "2023-07-06T20:39:23.406708Z"
    },
    "papermill": {
     "duration": 4.378986,
     "end_time": "2023-07-06T20:39:23.411025",
     "exception": false,
     "start_time": "2023-07-06T20:39:19.032039",
     "status": "completed"
    },
    "tags": []
   },
   "outputs": [],
   "source": [
    "import skimage.transform as st\n",
    "#prepare feature data for load\n",
    "x_train = np.array(df['img_array'])\n",
    "x_train = np.array([st.resize(val,(64,64)) for val in x_train])\n",
    "#prepare target data for load\n",
    "y_train = df[\"label_array\"].tolist()\n",
    "y_train = [str(y[0])+\", \"+y[1] for y in y_train]"
   ]
  },
  {
   "cell_type": "code",
   "execution_count": 10,
   "id": "4e3f02a7",
   "metadata": {
    "execution": {
     "iopub.execute_input": "2023-07-06T20:39:23.428454Z",
     "iopub.status.busy": "2023-07-06T20:39:23.427623Z",
     "iopub.status.idle": "2023-07-06T20:39:23.436262Z",
     "shell.execute_reply": "2023-07-06T20:39:23.435081Z"
    },
    "papermill": {
     "duration": 0.020266,
     "end_time": "2023-07-06T20:39:23.438792",
     "exception": false,
     "start_time": "2023-07-06T20:39:23.418526",
     "status": "completed"
    },
    "tags": []
   },
   "outputs": [],
   "source": [
    "unquies = list(set(y_train))\n",
    "numDict={unquies[i]:i for i in range(len(unquies))}\n",
    "translator = {v:k for k,v in numDict.items()}\n",
    "numz = [numDict[y] for y in y_train]\n",
    "y_train=numz"
   ]
  },
  {
   "cell_type": "code",
   "execution_count": 11,
   "id": "358f175d",
   "metadata": {
    "execution": {
     "iopub.execute_input": "2023-07-06T20:39:23.455443Z",
     "iopub.status.busy": "2023-07-06T20:39:23.454979Z",
     "iopub.status.idle": "2023-07-06T20:39:24.669421Z",
     "shell.execute_reply": "2023-07-06T20:39:24.668247Z"
    },
    "papermill": {
     "duration": 1.226189,
     "end_time": "2023-07-06T20:39:24.672401",
     "exception": false,
     "start_time": "2023-07-06T20:39:23.446212",
     "status": "completed"
    },
    "tags": []
   },
   "outputs": [],
   "source": [
    "# data augmentation layer\n",
    "data_augmentation = tf.keras.Sequential([\n",
    "  tf.keras.layers.RandomFlip(\"horizontal_and_vertical\"),\n",
    "  tf.keras.layers.RandomRotation(0.3),\n",
    "  tf.keras.layers.RandomZoom(0.1)\n",
    "])\n",
    "\n",
    "def acceptor(img, label):\n",
    "    '''function to format the data for augmentation\n",
    "    '''\n",
    "    image = tf.cast(tf.expand_dims(img, -1), tf.float32)\n",
    "    return image, label"
   ]
  },
  {
   "cell_type": "code",
   "execution_count": 12,
   "id": "ec6d0261",
   "metadata": {
    "execution": {
     "iopub.execute_input": "2023-07-06T20:39:24.689658Z",
     "iopub.status.busy": "2023-07-06T20:39:24.689245Z",
     "iopub.status.idle": "2023-07-06T20:39:25.454944Z",
     "shell.execute_reply": "2023-07-06T20:39:25.453840Z"
    },
    "papermill": {
     "duration": 0.777644,
     "end_time": "2023-07-06T20:39:25.457884",
     "exception": false,
     "start_time": "2023-07-06T20:39:24.680240",
     "status": "completed"
    },
    "tags": []
   },
   "outputs": [],
   "source": [
    "#create tensorflow data set (the fun part)\n",
    "my_ds = tf.data.Dataset.from_tensor_slices((x_train, y_train))\n",
    "#shuffle the data\n",
    "my_ds = my_ds.shuffle(len(df.index))\n",
    "#normalize the image so that everything is between 0 and 1\n",
    "my_ds = my_ds.map(normalize_img, num_parallel_calls=tf.data.AUTOTUNE)\n",
    "# augment the data\n",
    "my_ds = my_ds.map(acceptor, num_parallel_calls=tf.data.AUTOTUNE)\n",
    "my_ds = my_ds.map(lambda x, y: (data_augmentation(x), y),  num_parallel_calls=4)"
   ]
  },
  {
   "cell_type": "code",
   "execution_count": 13,
   "id": "0e3f89f5",
   "metadata": {
    "execution": {
     "iopub.execute_input": "2023-07-06T20:39:25.474601Z",
     "iopub.status.busy": "2023-07-06T20:39:25.474137Z",
     "iopub.status.idle": "2023-07-06T20:39:25.520893Z",
     "shell.execute_reply": "2023-07-06T20:39:25.519286Z"
    },
    "papermill": {
     "duration": 0.059011,
     "end_time": "2023-07-06T20:39:25.524330",
     "exception": false,
     "start_time": "2023-07-06T20:39:25.465319",
     "status": "completed"
    },
    "tags": []
   },
   "outputs": [],
   "source": [
    "#build a simple model\n",
    "model = tf.keras.Sequential([\n",
    "    tf.keras.layers.Conv2D(16, 3, padding='same', activation='relu'),\n",
    "    tf.keras.layers.MaxPooling2D(),\n",
    "    tf.keras.layers.Conv2D(32, 3, padding='same', activation='relu'),\n",
    "    tf.keras.layers.MaxPooling2D(),\n",
    "    tf.keras.layers.Conv2D(64, 3, padding='same', activation='relu'),\n",
    "    tf.keras.layers.MaxPooling2D(),\n",
    "    tf.keras.layers.Dropout(0.15),\n",
    "    tf.keras.layers.Flatten(),\n",
    "    tf.keras.layers.Dense(128, activation='relu'),\n",
    "    tf.keras.layers.Dense(max(numDict.values())+1)\n",
    "])\n",
    "#compile the model\n",
    "model.compile(optimizer='adam',\n",
    "              loss=tf.keras.losses.SparseCategoricalCrossentropy(from_logits=True),\n",
    "              metrics=['accuracy'])"
   ]
  },
  {
   "cell_type": "code",
   "execution_count": 14,
   "id": "9027c055",
   "metadata": {
    "execution": {
     "iopub.execute_input": "2023-07-06T20:39:25.541776Z",
     "iopub.status.busy": "2023-07-06T20:39:25.540581Z",
     "iopub.status.idle": "2023-07-06T20:39:25.550252Z",
     "shell.execute_reply": "2023-07-06T20:39:25.548842Z"
    },
    "papermill": {
     "duration": 0.021449,
     "end_time": "2023-07-06T20:39:25.553128",
     "exception": false,
     "start_time": "2023-07-06T20:39:25.531679",
     "status": "completed"
    },
    "tags": []
   },
   "outputs": [],
   "source": [
    "#separate data set into validation and training sets\n",
    "valid_ds_f = my_ds.take(int(0.2*4432))\n",
    "train_ds_f = my_ds.skip(int(0.2*4432))\n",
    "#batch datasets\n",
    "valid_ds = valid_ds_f.batch(32)\n",
    "train_ds = train_ds_f.batch(32)"
   ]
  },
  {
   "cell_type": "code",
   "execution_count": 15,
   "id": "b043e180",
   "metadata": {
    "execution": {
     "iopub.execute_input": "2023-07-06T20:39:25.569813Z",
     "iopub.status.busy": "2023-07-06T20:39:25.569346Z",
     "iopub.status.idle": "2023-07-06T20:52:46.054778Z",
     "shell.execute_reply": "2023-07-06T20:52:46.053354Z"
    },
    "papermill": {
     "duration": 800.49796,
     "end_time": "2023-07-06T20:52:46.058615",
     "exception": false,
     "start_time": "2023-07-06T20:39:25.560655",
     "status": "completed"
    },
    "tags": []
   },
   "outputs": [
    {
     "name": "stdout",
     "output_type": "stream",
     "text": [
      "Epoch 1/100\n",
      "111/111 [==============================] - 7s 56ms/step - loss: 2.4036 - accuracy: 0.5320 - val_loss: 2.2828 - val_accuracy: 0.5327\n",
      "Epoch 2/100\n",
      "111/111 [==============================] - 6s 54ms/step - loss: 2.2564 - accuracy: 0.5394 - val_loss: 2.2525 - val_accuracy: 0.5293\n",
      "Epoch 3/100\n",
      "111/111 [==============================] - 6s 55ms/step - loss: 2.2368 - accuracy: 0.5343 - val_loss: 2.2083 - val_accuracy: 0.5451\n",
      "Epoch 4/100\n",
      "111/111 [==============================] - 6s 55ms/step - loss: 2.2405 - accuracy: 0.5238 - val_loss: 2.1617 - val_accuracy: 0.5429\n",
      "Epoch 5/100\n",
      "111/111 [==============================] - 7s 61ms/step - loss: 2.1809 - accuracy: 0.5295 - val_loss: 2.1677 - val_accuracy: 0.5384\n",
      "Epoch 6/100\n",
      "111/111 [==============================] - 6s 53ms/step - loss: 2.1664 - accuracy: 0.5238 - val_loss: 2.0790 - val_accuracy: 0.5429\n",
      "Epoch 7/100\n",
      "111/111 [==============================] - 6s 54ms/step - loss: 2.1148 - accuracy: 0.5289 - val_loss: 2.0532 - val_accuracy: 0.5406\n",
      "Epoch 8/100\n",
      "111/111 [==============================] - 6s 54ms/step - loss: 2.1015 - accuracy: 0.5329 - val_loss: 2.0441 - val_accuracy: 0.5316\n",
      "Epoch 9/100\n",
      "111/111 [==============================] - 7s 61ms/step - loss: 2.0966 - accuracy: 0.5216 - val_loss: 2.1911 - val_accuracy: 0.4910\n",
      "Epoch 10/100\n",
      "111/111 [==============================] - 6s 54ms/step - loss: 2.0822 - accuracy: 0.5193 - val_loss: 1.9888 - val_accuracy: 0.5372\n",
      "Epoch 11/100\n",
      "111/111 [==============================] - 6s 55ms/step - loss: 2.0235 - accuracy: 0.5267 - val_loss: 1.9980 - val_accuracy: 0.5293\n",
      "Epoch 12/100\n",
      "111/111 [==============================] - 6s 54ms/step - loss: 2.0039 - accuracy: 0.5368 - val_loss: 1.9574 - val_accuracy: 0.5418\n",
      "Epoch 13/100\n",
      "111/111 [==============================] - 6s 54ms/step - loss: 1.9693 - accuracy: 0.5340 - val_loss: 2.0185 - val_accuracy: 0.5079\n",
      "Epoch 14/100\n",
      "111/111 [==============================] - 7s 58ms/step - loss: 1.9898 - accuracy: 0.5255 - val_loss: 1.8872 - val_accuracy: 0.5519\n",
      "Epoch 15/100\n",
      "111/111 [==============================] - 6s 54ms/step - loss: 1.9606 - accuracy: 0.5289 - val_loss: 1.8884 - val_accuracy: 0.5429\n",
      "Epoch 16/100\n",
      "111/111 [==============================] - 6s 54ms/step - loss: 1.9410 - accuracy: 0.5272 - val_loss: 1.9569 - val_accuracy: 0.5068\n",
      "Epoch 17/100\n",
      "111/111 [==============================] - 6s 53ms/step - loss: 1.9102 - accuracy: 0.5331 - val_loss: 1.9099 - val_accuracy: 0.5169\n",
      "Epoch 18/100\n",
      "111/111 [==============================] - 7s 62ms/step - loss: 1.9100 - accuracy: 0.5258 - val_loss: 1.8004 - val_accuracy: 0.5429\n",
      "Epoch 19/100\n",
      "111/111 [==============================] - 6s 55ms/step - loss: 1.8988 - accuracy: 0.5269 - val_loss: 1.9079 - val_accuracy: 0.5068\n",
      "Epoch 20/100\n",
      "111/111 [==============================] - 6s 55ms/step - loss: 1.8566 - accuracy: 0.5320 - val_loss: 1.7323 - val_accuracy: 0.5587\n",
      "Epoch 21/100\n",
      "111/111 [==============================] - 6s 54ms/step - loss: 1.8433 - accuracy: 0.5269 - val_loss: 1.8487 - val_accuracy: 0.5124\n",
      "Epoch 22/100\n",
      "111/111 [==============================] - 6s 54ms/step - loss: 1.8552 - accuracy: 0.5213 - val_loss: 1.7756 - val_accuracy: 0.5316\n",
      "Epoch 23/100\n",
      "111/111 [==============================] - 6s 54ms/step - loss: 1.8638 - accuracy: 0.5283 - val_loss: 1.7727 - val_accuracy: 0.5350\n",
      "Epoch 24/100\n",
      "111/111 [==============================] - 6s 54ms/step - loss: 1.7808 - accuracy: 0.5362 - val_loss: 1.7540 - val_accuracy: 0.5418\n",
      "Epoch 25/100\n",
      "111/111 [==============================] - 6s 54ms/step - loss: 1.7935 - accuracy: 0.5275 - val_loss: 1.6954 - val_accuracy: 0.5621\n",
      "Epoch 26/100\n",
      "111/111 [==============================] - 7s 62ms/step - loss: 1.7311 - accuracy: 0.5410 - val_loss: 1.7767 - val_accuracy: 0.5113\n",
      "Epoch 27/100\n",
      "111/111 [==============================] - 6s 54ms/step - loss: 1.7343 - accuracy: 0.5377 - val_loss: 1.6667 - val_accuracy: 0.5440\n",
      "Epoch 28/100\n",
      "111/111 [==============================] - 6s 54ms/step - loss: 1.7307 - accuracy: 0.5396 - val_loss: 1.6439 - val_accuracy: 0.5598\n",
      "Epoch 29/100\n",
      "111/111 [==============================] - 6s 53ms/step - loss: 1.7234 - accuracy: 0.5475 - val_loss: 1.6778 - val_accuracy: 0.5339\n",
      "Epoch 30/100\n",
      "111/111 [==============================] - 6s 55ms/step - loss: 1.6988 - accuracy: 0.5405 - val_loss: 1.6014 - val_accuracy: 0.5722\n",
      "Epoch 31/100\n",
      "111/111 [==============================] - 6s 54ms/step - loss: 1.6603 - accuracy: 0.5430 - val_loss: 1.6389 - val_accuracy: 0.5497\n",
      "Epoch 32/100\n",
      "111/111 [==============================] - 6s 54ms/step - loss: 1.6641 - accuracy: 0.5427 - val_loss: 1.5658 - val_accuracy: 0.5666\n",
      "Epoch 33/100\n",
      "111/111 [==============================] - 7s 62ms/step - loss: 1.6244 - accuracy: 0.5602 - val_loss: 1.6014 - val_accuracy: 0.5418\n",
      "Epoch 34/100\n",
      "111/111 [==============================] - 6s 53ms/step - loss: 1.6086 - accuracy: 0.5594 - val_loss: 1.6470 - val_accuracy: 0.5508\n",
      "Epoch 35/100\n",
      "111/111 [==============================] - 6s 55ms/step - loss: 1.6155 - accuracy: 0.5458 - val_loss: 1.7364 - val_accuracy: 0.5497\n",
      "Epoch 36/100\n",
      "111/111 [==============================] - 6s 54ms/step - loss: 1.5877 - accuracy: 0.5656 - val_loss: 1.5090 - val_accuracy: 0.5847\n",
      "Epoch 37/100\n",
      "111/111 [==============================] - 7s 62ms/step - loss: 1.5750 - accuracy: 0.5602 - val_loss: 1.4670 - val_accuracy: 0.5948\n",
      "Epoch 38/100\n",
      "111/111 [==============================] - 6s 55ms/step - loss: 1.5757 - accuracy: 0.5670 - val_loss: 1.4219 - val_accuracy: 0.5959\n",
      "Epoch 39/100\n",
      "111/111 [==============================] - 6s 54ms/step - loss: 1.5517 - accuracy: 0.5639 - val_loss: 1.4441 - val_accuracy: 0.5858\n",
      "Epoch 40/100\n",
      "111/111 [==============================] - 6s 54ms/step - loss: 1.5301 - accuracy: 0.5726 - val_loss: 1.4675 - val_accuracy: 0.5700\n",
      "Epoch 41/100\n",
      "111/111 [==============================] - 7s 62ms/step - loss: 1.5115 - accuracy: 0.5763 - val_loss: 1.4722 - val_accuracy: 0.5734\n",
      "Epoch 42/100\n",
      "111/111 [==============================] - 6s 54ms/step - loss: 1.4844 - accuracy: 0.5783 - val_loss: 1.3863 - val_accuracy: 0.6230\n",
      "Epoch 43/100\n",
      "111/111 [==============================] - 6s 54ms/step - loss: 1.4560 - accuracy: 0.5834 - val_loss: 1.4257 - val_accuracy: 0.5993\n",
      "Epoch 44/100\n",
      "111/111 [==============================] - 7s 57ms/step - loss: 1.4541 - accuracy: 0.5839 - val_loss: 1.3456 - val_accuracy: 0.6196\n",
      "Epoch 45/100\n",
      "111/111 [==============================] - 6s 53ms/step - loss: 1.4474 - accuracy: 0.5873 - val_loss: 1.4463 - val_accuracy: 0.5813\n",
      "Epoch 46/100\n",
      "111/111 [==============================] - 6s 54ms/step - loss: 1.4521 - accuracy: 0.5828 - val_loss: 1.4500 - val_accuracy: 0.5722\n",
      "Epoch 47/100\n",
      "111/111 [==============================] - 6s 55ms/step - loss: 1.4260 - accuracy: 0.5910 - val_loss: 1.3481 - val_accuracy: 0.6084\n",
      "Epoch 48/100\n",
      "111/111 [==============================] - 6s 54ms/step - loss: 1.4085 - accuracy: 0.5921 - val_loss: 1.2932 - val_accuracy: 0.6366\n",
      "Epoch 49/100\n",
      "111/111 [==============================] - 7s 62ms/step - loss: 1.4169 - accuracy: 0.5879 - val_loss: 1.2776 - val_accuracy: 0.6343\n",
      "Epoch 50/100\n",
      "111/111 [==============================] - 6s 53ms/step - loss: 1.3895 - accuracy: 0.6028 - val_loss: 1.3518 - val_accuracy: 0.6038\n",
      "Epoch 51/100\n",
      "111/111 [==============================] - 6s 54ms/step - loss: 1.4008 - accuracy: 0.5901 - val_loss: 1.2397 - val_accuracy: 0.6321\n",
      "Epoch 52/100\n",
      "111/111 [==============================] - 7s 59ms/step - loss: 1.3813 - accuracy: 0.6034 - val_loss: 1.2835 - val_accuracy: 0.6321\n",
      "Epoch 53/100\n",
      "111/111 [==============================] - 6s 54ms/step - loss: 1.3294 - accuracy: 0.6121 - val_loss: 1.3123 - val_accuracy: 0.6230\n",
      "Epoch 54/100\n",
      "111/111 [==============================] - 6s 54ms/step - loss: 1.3454 - accuracy: 0.5980 - val_loss: 1.2513 - val_accuracy: 0.6456\n",
      "Epoch 55/100\n",
      "111/111 [==============================] - 6s 55ms/step - loss: 1.3157 - accuracy: 0.6305 - val_loss: 1.2987 - val_accuracy: 0.6106\n",
      "Epoch 56/100\n",
      "111/111 [==============================] - 6s 55ms/step - loss: 1.3229 - accuracy: 0.6144 - val_loss: 1.2677 - val_accuracy: 0.6366\n",
      "Epoch 57/100\n",
      "111/111 [==============================] - 7s 57ms/step - loss: 1.2950 - accuracy: 0.6169 - val_loss: 1.2975 - val_accuracy: 0.6230\n",
      "Epoch 58/100\n",
      "111/111 [==============================] - 6s 53ms/step - loss: 1.2697 - accuracy: 0.6206 - val_loss: 1.1648 - val_accuracy: 0.6727\n",
      "Epoch 59/100\n",
      "111/111 [==============================] - 6s 54ms/step - loss: 1.3243 - accuracy: 0.6028 - val_loss: 1.3240 - val_accuracy: 0.6230\n",
      "Epoch 60/100\n",
      "111/111 [==============================] - 6s 54ms/step - loss: 1.2791 - accuracy: 0.6214 - val_loss: 1.2088 - val_accuracy: 0.6490\n",
      "Epoch 61/100\n",
      "111/111 [==============================] - 7s 60ms/step - loss: 1.2607 - accuracy: 0.6350 - val_loss: 1.2488 - val_accuracy: 0.6490\n",
      "Epoch 62/100\n",
      "111/111 [==============================] - 6s 53ms/step - loss: 1.2477 - accuracy: 0.6316 - val_loss: 1.2197 - val_accuracy: 0.6354\n",
      "Epoch 63/100\n",
      "111/111 [==============================] - 6s 54ms/step - loss: 1.2272 - accuracy: 0.6361 - val_loss: 1.2122 - val_accuracy: 0.6422\n",
      "Epoch 64/100\n",
      "111/111 [==============================] - 6s 54ms/step - loss: 1.2378 - accuracy: 0.6313 - val_loss: 1.1929 - val_accuracy: 0.6377\n",
      "Epoch 65/100\n",
      "111/111 [==============================] - 7s 62ms/step - loss: 1.2150 - accuracy: 0.6446 - val_loss: 1.1907 - val_accuracy: 0.6558\n",
      "Epoch 66/100\n",
      "111/111 [==============================] - 6s 53ms/step - loss: 1.2401 - accuracy: 0.6361 - val_loss: 1.1832 - val_accuracy: 0.6400\n",
      "Epoch 67/100\n",
      "111/111 [==============================] - 6s 55ms/step - loss: 1.2239 - accuracy: 0.6339 - val_loss: 1.1217 - val_accuracy: 0.6659\n",
      "Epoch 68/100\n",
      "111/111 [==============================] - 6s 55ms/step - loss: 1.2056 - accuracy: 0.6384 - val_loss: 1.1823 - val_accuracy: 0.6569\n",
      "Epoch 69/100\n",
      "111/111 [==============================] - 7s 57ms/step - loss: 1.2078 - accuracy: 0.6370 - val_loss: 1.1247 - val_accuracy: 0.6580\n",
      "Epoch 70/100\n",
      "111/111 [==============================] - 6s 54ms/step - loss: 1.1794 - accuracy: 0.6460 - val_loss: 1.1540 - val_accuracy: 0.6704\n",
      "Epoch 71/100\n",
      "111/111 [==============================] - 6s 55ms/step - loss: 1.2060 - accuracy: 0.6395 - val_loss: 1.0811 - val_accuracy: 0.6772\n",
      "Epoch 72/100\n",
      "111/111 [==============================] - 6s 53ms/step - loss: 1.1700 - accuracy: 0.6474 - val_loss: 1.1247 - val_accuracy: 0.6637\n",
      "Epoch 73/100\n",
      "111/111 [==============================] - 7s 62ms/step - loss: 1.1453 - accuracy: 0.6522 - val_loss: 1.0734 - val_accuracy: 0.6885\n",
      "Epoch 74/100\n",
      "111/111 [==============================] - 6s 54ms/step - loss: 1.1661 - accuracy: 0.6485 - val_loss: 1.0943 - val_accuracy: 0.6637\n",
      "Epoch 75/100\n",
      "111/111 [==============================] - 6s 55ms/step - loss: 1.1357 - accuracy: 0.6590 - val_loss: 1.0716 - val_accuracy: 0.6840\n",
      "Epoch 76/100\n",
      "111/111 [==============================] - 6s 54ms/step - loss: 1.1496 - accuracy: 0.6522 - val_loss: 1.1415 - val_accuracy: 0.6727\n",
      "Epoch 77/100\n",
      "111/111 [==============================] - 7s 62ms/step - loss: 1.1465 - accuracy: 0.6508 - val_loss: 1.0765 - val_accuracy: 0.6716\n",
      "Epoch 78/100\n",
      "111/111 [==============================] - 6s 54ms/step - loss: 1.1147 - accuracy: 0.6680 - val_loss: 1.0101 - val_accuracy: 0.6874\n",
      "Epoch 79/100\n",
      "111/111 [==============================] - 6s 55ms/step - loss: 1.1283 - accuracy: 0.6550 - val_loss: 1.0067 - val_accuracy: 0.6907\n",
      "Epoch 80/100\n",
      "111/111 [==============================] - 7s 63ms/step - loss: 1.0994 - accuracy: 0.6657 - val_loss: 1.0823 - val_accuracy: 0.6817\n",
      "Epoch 81/100\n",
      "111/111 [==============================] - 6s 54ms/step - loss: 1.0912 - accuracy: 0.6694 - val_loss: 1.0500 - val_accuracy: 0.6772\n",
      "Epoch 82/100\n",
      "111/111 [==============================] - 6s 53ms/step - loss: 1.1245 - accuracy: 0.6590 - val_loss: 1.0136 - val_accuracy: 0.6885\n",
      "Epoch 83/100\n",
      "111/111 [==============================] - 6s 54ms/step - loss: 1.0887 - accuracy: 0.6736 - val_loss: 1.0501 - val_accuracy: 0.6896\n",
      "Epoch 84/100\n",
      "111/111 [==============================] - 6s 54ms/step - loss: 1.0788 - accuracy: 0.6654 - val_loss: 0.9442 - val_accuracy: 0.7178\n",
      "Epoch 85/100\n",
      "111/111 [==============================] - 7s 62ms/step - loss: 1.0603 - accuracy: 0.6795 - val_loss: 1.0728 - val_accuracy: 0.6795\n",
      "Epoch 86/100\n",
      "111/111 [==============================] - 6s 53ms/step - loss: 1.0866 - accuracy: 0.6700 - val_loss: 1.0630 - val_accuracy: 0.6727\n",
      "Epoch 87/100\n",
      "111/111 [==============================] - 6s 55ms/step - loss: 1.0510 - accuracy: 0.6756 - val_loss: 0.9076 - val_accuracy: 0.7122\n",
      "Epoch 88/100\n",
      "111/111 [==============================] - 6s 54ms/step - loss: 1.0523 - accuracy: 0.6759 - val_loss: 1.0420 - val_accuracy: 0.6907\n",
      "Epoch 89/100\n",
      "111/111 [==============================] - 7s 62ms/step - loss: 1.0713 - accuracy: 0.6841 - val_loss: 0.9950 - val_accuracy: 0.6896\n",
      "Epoch 90/100\n",
      "111/111 [==============================] - 6s 54ms/step - loss: 1.0434 - accuracy: 0.6753 - val_loss: 0.9939 - val_accuracy: 0.6874\n",
      "Epoch 91/100\n",
      "111/111 [==============================] - 6s 54ms/step - loss: 1.0351 - accuracy: 0.6798 - val_loss: 1.0219 - val_accuracy: 0.6986\n",
      "Epoch 92/100\n",
      "111/111 [==============================] - 7s 59ms/step - loss: 1.0543 - accuracy: 0.6685 - val_loss: 0.9467 - val_accuracy: 0.7088\n",
      "Epoch 93/100\n",
      "111/111 [==============================] - 6s 53ms/step - loss: 1.0123 - accuracy: 0.6855 - val_loss: 0.9081 - val_accuracy: 0.7302\n",
      "Epoch 94/100\n",
      "111/111 [==============================] - 6s 53ms/step - loss: 1.0015 - accuracy: 0.6920 - val_loss: 0.9338 - val_accuracy: 0.7065\n",
      "Epoch 95/100\n",
      "111/111 [==============================] - 6s 54ms/step - loss: 1.0003 - accuracy: 0.6948 - val_loss: 0.9465 - val_accuracy: 0.7065\n",
      "Epoch 96/100\n",
      "111/111 [==============================] - 6s 54ms/step - loss: 1.0105 - accuracy: 0.6911 - val_loss: 0.9612 - val_accuracy: 0.6998\n",
      "Epoch 97/100\n",
      "111/111 [==============================] - 7s 61ms/step - loss: 1.0005 - accuracy: 0.6942 - val_loss: 0.9918 - val_accuracy: 0.6885\n",
      "Epoch 98/100\n",
      "111/111 [==============================] - 6s 54ms/step - loss: 0.9613 - accuracy: 0.7072 - val_loss: 1.0284 - val_accuracy: 0.6806\n",
      "Epoch 99/100\n",
      "111/111 [==============================] - 6s 55ms/step - loss: 1.0000 - accuracy: 0.6880 - val_loss: 0.9883 - val_accuracy: 0.6998\n",
      "Epoch 100/100\n",
      "111/111 [==============================] - 6s 53ms/step - loss: 0.9842 - accuracy: 0.6900 - val_loss: 0.9034 - val_accuracy: 0.7144\n"
     ]
    }
   ],
   "source": [
    "#set the number of epochs\n",
    "epochs=100\n",
    "#fit the model\n",
    "output = model.fit(train_ds,\n",
    "          validation_data=valid_ds,\n",
    "          epochs=epochs)"
   ]
  },
  {
   "cell_type": "code",
   "execution_count": 16,
   "id": "ec6aad71",
   "metadata": {
    "execution": {
     "iopub.execute_input": "2023-07-06T20:52:47.128119Z",
     "iopub.status.busy": "2023-07-06T20:52:47.127635Z",
     "iopub.status.idle": "2023-07-06T20:52:47.153393Z",
     "shell.execute_reply": "2023-07-06T20:52:47.152139Z"
    },
    "papermill": {
     "duration": 0.563002,
     "end_time": "2023-07-06T20:52:47.156304",
     "exception": false,
     "start_time": "2023-07-06T20:52:46.593302",
     "status": "completed"
    },
    "tags": []
   },
   "outputs": [],
   "source": [
    "# extract entries in the testing data\n",
    "M = glob.glob(tests+\"/*\")\n",
    "N = [M[i].split('/')[-1] for i in range(len(M))]"
   ]
  },
  {
   "cell_type": "code",
   "execution_count": 17,
   "id": "3fc3902c",
   "metadata": {
    "execution": {
     "iopub.execute_input": "2023-07-06T20:52:48.293277Z",
     "iopub.status.busy": "2023-07-06T20:52:48.292143Z",
     "iopub.status.idle": "2023-07-06T20:53:02.329511Z",
     "shell.execute_reply": "2023-07-06T20:53:02.328123Z"
    },
    "papermill": {
     "duration": 14.642419,
     "end_time": "2023-07-06T20:53:02.332994",
     "exception": false,
     "start_time": "2023-07-06T20:52:47.690575",
     "status": "completed"
    },
    "tags": []
   },
   "outputs": [],
   "source": [
    "# Fix mismatch with test_images folder\n",
    "testing = pd.DataFrame(columns = ['row_id','StudyInstanceUID','prediction_type'])\n",
    "for i in N:\n",
    "    for j in ['C1','C2','C3','C4','C5','C6','C7','patient_overall']:\n",
    "        testing = testing.append({'row_id':i+'_'+j,'StudyInstanceUID':i,'prediction_type':j},ignore_index=True)\n",
    "\n",
    "testing['fractured'] = testing.apply(lambda x: predict_affected(x['StudyInstanceUID'], x['prediction_type']),axis=1)\n",
    "testing = testing.dropna()"
   ]
  },
  {
   "cell_type": "code",
   "execution_count": 18,
   "id": "b30b41f6",
   "metadata": {
    "execution": {
     "iopub.execute_input": "2023-07-06T20:53:03.429757Z",
     "iopub.status.busy": "2023-07-06T20:53:03.428372Z",
     "iopub.status.idle": "2023-07-06T20:53:03.439990Z",
     "shell.execute_reply": "2023-07-06T20:53:03.438922Z"
    },
    "papermill": {
     "duration": 0.553774,
     "end_time": "2023-07-06T20:53:03.443296",
     "exception": false,
     "start_time": "2023-07-06T20:53:02.889522",
     "status": "completed"
    },
    "tags": []
   },
   "outputs": [],
   "source": [
    "sub = testing[['row_id', 'fractured']]\n",
    "sub.to_csv(\"submission.csv\", index=False)"
   ]
  },
  {
   "cell_type": "code",
   "execution_count": null,
   "id": "7af0fa5e",
   "metadata": {
    "papermill": {
     "duration": 0.597842,
     "end_time": "2023-07-06T20:53:04.574574",
     "exception": false,
     "start_time": "2023-07-06T20:53:03.976732",
     "status": "completed"
    },
    "tags": []
   },
   "outputs": [],
   "source": []
  }
 ],
 "metadata": {
  "kernelspec": {
   "display_name": "Python 3",
   "language": "python",
   "name": "python3"
  },
  "language_info": {
   "codemirror_mode": {
    "name": "ipython",
    "version": 3
   },
   "file_extension": ".py",
   "mimetype": "text/x-python",
   "name": "python",
   "nbconvert_exporter": "python",
   "pygments_lexer": "ipython3",
   "version": "3.7.12"
  },
  "papermill": {
   "default_parameters": {},
   "duration": 1021.745169,
   "end_time": "2023-07-06T20:53:08.092029",
   "environment_variables": {},
   "exception": null,
   "input_path": "__notebook__.ipynb",
   "output_path": "__notebook__.ipynb",
   "parameters": {},
   "start_time": "2023-07-06T20:36:06.346860",
   "version": "2.3.4"
  }
 },
 "nbformat": 4,
 "nbformat_minor": 5
}
