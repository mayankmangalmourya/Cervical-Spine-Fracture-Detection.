{
 "cells": [
  {
   "cell_type": "code",
   "execution_count": 1,
   "id": "8d0fb75f",
   "metadata": {
    "_cell_guid": "b1076dfc-b9ad-4769-8c92-a6c4dae69d19",
    "_uuid": "8f2839f25d086af736a60e9eeb907d3b93b6e0e5",
    "execution": {
     "iopub.execute_input": "2023-07-07T09:24:23.663090Z",
     "iopub.status.busy": "2023-07-07T09:24:23.662452Z",
     "iopub.status.idle": "2023-07-07T09:24:23.672297Z",
     "shell.execute_reply": "2023-07-07T09:24:23.671716Z"
    },
    "papermill": {
     "duration": 0.016068,
     "end_time": "2023-07-07T09:24:23.674374",
     "exception": false,
     "start_time": "2023-07-07T09:24:23.658306",
     "status": "completed"
    },
    "tags": []
   },
   "outputs": [],
   "source": [
    "# This Python 3 environment comes with many helpful analytics libraries installed\n",
    "# It is defined by the kaggle/python Docker image: https://github.com/kaggle/docker-python\n",
    "# For example, here's several helpful packages to load\n",
    "\n",
    "import numpy as np # linear algebra\n",
    "import pandas as pd # data processing, CSV file I/O (e.g. pd.read_csv)\n",
    "\n",
    "# Input data files are available in the read-only \"../input/\" directory\n",
    "# For example, running this (by clicking run or pressing Shift+Enter) will list all files under the input directory\n",
    "\n",
    "import os\n",
    "for dirname, _, filenames in os.walk('/kaggle/input'):\n",
    "    for filename in filenames:\n",
    "        print(os.path.join(dirname, filename))\n",
    "\n",
    "# You can write up to 20GB to the current directory (/kaggle/working/) that gets preserved as output when you create a version using \"Save & Run All\" \n",
    "# You can also write temporary files to /kaggle/temp/, but they won't be saved outside of the current session"
   ]
  },
  {
   "cell_type": "code",
   "execution_count": 2,
   "id": "5a4a002a",
   "metadata": {
    "execution": {
     "iopub.execute_input": "2023-07-07T09:24:23.680806Z",
     "iopub.status.busy": "2023-07-07T09:24:23.680287Z",
     "iopub.status.idle": "2023-07-07T09:24:25.178935Z",
     "shell.execute_reply": "2023-07-07T09:24:25.177915Z"
    },
    "papermill": {
     "duration": 1.504387,
     "end_time": "2023-07-07T09:24:25.181272",
     "exception": false,
     "start_time": "2023-07-07T09:24:23.676885",
     "status": "completed"
    },
    "tags": []
   },
   "outputs": [],
   "source": [
    "import re       #for matching regular expression.\n",
    "import cv2      #Python bindings designed to solve computer vision problems\n",
    "import random    #generate random number.\n",
    "from glob import glob       #return all file paths that match a specific pattern.github\n",
    "\n",
    "from pprint import pprint\n",
    "import warnings\n",
    "import itertools\n",
    "import pandas as pd\n",
    "import numpy as np\n",
    "import seaborn as sns\n",
    "import matplotlib.patches as patches\n",
    "import matplotlib.pyplot as plt\n",
    "from matplotlib.colors import ListedColormap\n",
    "from IPython.display import display_html\n",
    "\n",
    "plt.rcParams.update({'font.size': 16})\n",
    "\n",
    "# .dcm handling\n",
    "import pydicom\n",
    "import nibabel as nib\n",
    "from pydicom.pixel_data_handlers.util import apply_voi_lut\n",
    "\n",
    "# Environment check\n",
    "warnings.filterwarnings('ignore')"
   ]
  },
  {
   "cell_type": "code",
   "execution_count": 3,
   "id": "be46ee0b",
   "metadata": {
    "execution": {
     "iopub.execute_input": "2023-07-07T09:24:25.186786Z",
     "iopub.status.busy": "2023-07-07T09:24:25.186517Z",
     "iopub.status.idle": "2023-07-07T09:24:25.191673Z",
     "shell.execute_reply": "2023-07-07T09:24:25.190641Z"
    },
    "papermill": {
     "duration": 0.00992,
     "end_time": "2023-07-07T09:24:25.193470",
     "exception": false,
     "start_time": "2023-07-07T09:24:25.183550",
     "status": "completed"
    },
    "tags": []
   },
   "outputs": [],
   "source": [
    "# Custom colors\n",
    "class clr:\n",
    "    S = '\\033[1m' + '\\033[94m'\n",
    "    E = '\\033[0m'\n",
    "\n",
    "\n",
    "my_colors = [\n",
    "    '#5EAFD9',\n",
    "    '#449DD1',\n",
    "    '#3977BB',\n",
    "    '#2D51A5',\n",
    "    '#5C4C8F',\n",
    "    '#8B4679',\n",
    "    '#C53D4C',\n",
    "    '#E23836',\n",
    "    '#FF4633',\n",
    "    '#FF5746',\n",
    "]\n",
    "CMAP1 = ListedColormap(my_colors)"
   ]
  },
  {
   "cell_type": "markdown",
   "id": "a8f4389f",
   "metadata": {
    "papermill": {
     "duration": 0.001736,
     "end_time": "2023-07-07T09:24:25.197420",
     "exception": false,
     "start_time": "2023-07-07T09:24:25.195684",
     "status": "completed"
    },
    "tags": []
   },
   "source": [
    "\n",
    "****"
   ]
  },
  {
   "cell_type": "markdown",
   "id": "605cf522",
   "metadata": {
    "papermill": {
     "duration": 0.001736,
     "end_time": "2023-07-07T09:24:25.200984",
     "exception": false,
     "start_time": "2023-07-07T09:24:25.199248",
     "status": "completed"
    },
    "tags": []
   },
   "source": [
    "**show_values_on_bars:**\n",
    "This function is used to plot the values at the end of a seaborn bar plot. It takes in the axs parameter, which represents the axis of the plot, h_v parameter to determine whether the bar plot is vertical or horizontal, and space parameter to control the spacing between the bars.\n",
    "\n",
    "\n",
    "**_show_on_single_plot**\n",
    "Inside the function, there is a nested function _show_on_single_plot that handles the actual plotting of the values on a single plot. The function iterates over the patches (bars) in the plot and adds the corresponding value as text using the ax.text method.\n",
    "\n",
    "**natural_keys**\n",
    "natural_keys function splits a string into digit and non-digit groups for human-friendly sorting."
   ]
  },
  {
   "cell_type": "code",
   "execution_count": 4,
   "id": "076ec9f0",
   "metadata": {
    "execution": {
     "iopub.execute_input": "2023-07-07T09:24:25.206017Z",
     "iopub.status.busy": "2023-07-07T09:24:25.205677Z",
     "iopub.status.idle": "2023-07-07T09:24:25.214018Z",
     "shell.execute_reply": "2023-07-07T09:24:25.213136Z"
    },
    "papermill": {
     "duration": 0.012853,
     "end_time": "2023-07-07T09:24:25.215633",
     "exception": false,
     "start_time": "2023-07-07T09:24:25.202780",
     "status": "completed"
    },
    "tags": []
   },
   "outputs": [],
   "source": [
    "def show_values_on_bars(axs, h_v='v', space=0.4):\n",
    "    \"\"\"Plots the value at the end of the seaborn bar plot.\n",
    "    axs: the ax of the plot\n",
    "    h_v: weather or not the bar plot is vertical/ horizontal\"\"\"\n",
    "\n",
    "    def _show_on_single_plot(ax):\n",
    "        if h_v == 'v':\n",
    "            for p in ax.patches:\n",
    "                _x = p.get_x() + p.get_width() / 2\n",
    "                _y = p.get_y() + p.get_height()\n",
    "                value = int(p.get_height())\n",
    "                ax.text(_x, _y, format(value, ','), ha='center')\n",
    "        elif h_v == 'h':\n",
    "            for p in ax.patches:\n",
    "                _x = p.get_x() + p.get_width() + float(space)\n",
    "                _y = p.get_y() + p.get_height()\n",
    "                value = int(p.get_width())\n",
    "                ax.text(_x, _y, format(value, ','), ha='left')\n",
    "\n",
    "    if isinstance(axs, np.ndarray):\n",
    "        for idx, ax in np.ndenumerate(axs):\n",
    "            _show_on_single_plot(ax)\n",
    "    else:\n",
    "        _show_on_single_plot(axs)\n",
    "\n",
    "def atoi(text):\n",
    "    return int(text) if text.isdigit() else text\n",
    "\n",
    "\n",
    "def natural_keys(text):\n",
    "    \"\"\"\n",
    "    alist.sort(key=natural_keys) sorts in human order\n",
    "    https://nedbatchelder.com/blog/200712/human_sorting.html\n",
    "    (See Toothy's implementation in the comments)\n",
    "    \"\"\"\n",
    "    return [atoi(c) for c in re.split(r'(\\d+)', text)]"
   ]
  },
  {
   "cell_type": "code",
   "execution_count": null,
   "id": "03da43f1",
   "metadata": {
    "papermill": {
     "duration": 0.001766,
     "end_time": "2023-07-07T09:24:25.219553",
     "exception": false,
     "start_time": "2023-07-07T09:24:25.217787",
     "status": "completed"
    },
    "tags": []
   },
   "outputs": [],
   "source": []
  }
 ],
 "metadata": {
  "kernelspec": {
   "display_name": "Python 3",
   "language": "python",
   "name": "python3"
  },
  "language_info": {
   "codemirror_mode": {
    "name": "ipython",
    "version": 3
   },
   "file_extension": ".py",
   "mimetype": "text/x-python",
   "name": "python",
   "nbconvert_exporter": "python",
   "pygments_lexer": "ipython3",
   "version": "3.10.10"
  },
  "papermill": {
   "default_parameters": {},
   "duration": 10.331185,
   "end_time": "2023-07-07T09:24:26.043073",
   "environment_variables": {},
   "exception": null,
   "input_path": "__notebook__.ipynb",
   "output_path": "__notebook__.ipynb",
   "parameters": {},
   "start_time": "2023-07-07T09:24:15.711888",
   "version": "2.4.0"
  }
 },
 "nbformat": 4,
 "nbformat_minor": 5
}
